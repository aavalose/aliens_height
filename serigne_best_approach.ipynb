{
 "cells": [
  {
   "cell_type": "code",
   "execution_count": 884,
   "metadata": {},
   "outputs": [],
   "source": [
    "import pandas as pd\n",
    "import numpy as np\n",
    "import matplotlib.pyplot as plt\n",
    "import seaborn as sns\n",
    "from sklearn.ensemble import GradientBoostingRegressor\n",
    "from sklearn.preprocessing import LabelEncoder\n",
    "from sklearn.model_selection import train_test_split\n",
    "from sklearn.metrics import mean_squared_error, r2_score\n",
    "from sklearn.impute import SimpleImputer\n",
    "from xgboost import XGBRegressor\n",
    "from sklearn.model_selection import GridSearchCV\n",
    "import shap"
   ]
  },
  {
   "cell_type": "code",
   "execution_count": 885,
   "metadata": {},
   "outputs": [],
   "source": [
    "import matplotlib\n",
    "matplotlib.use('Agg')"
   ]
  },
  {
   "cell_type": "code",
   "execution_count": 886,
   "metadata": {},
   "outputs": [],
   "source": [
    "# Load datasets\n",
    "gen1_train = pd.read_csv('gen1_train_comp_final.csv')\n",
    "gen2_train = pd.read_csv('gen2_train_comp_final.csv')\n",
    "gen1_test = pd.read_csv('gen1_test_comp_final.csv')\n",
    "gen2_test = pd.read_csv('gen2_test_upto9_comp_final.csv')\n",
    "template = pd.read_csv('gen2_test_solution_template.csv')"
   ]
  },
  {
   "cell_type": "markdown",
   "metadata": {},
   "source": [
    "## EDA"
   ]
  },
  {
   "cell_type": "markdown",
   "metadata": {},
   "source": [
    "### Displaying dataset shapes"
   ]
  },
  {
   "cell_type": "code",
   "execution_count": 887,
   "metadata": {},
   "outputs": [
    {
     "name": "stdout",
     "output_type": "stream",
     "text": [
      "Dataset shapes:\n",
      "Gen1 Training: (3636, 4)\n",
      "Gen2 Training: (4224, 7)\n",
      "Gen1 Test: (2232, 4)\n",
      "Gen2 Test: (1232, 7)\n"
     ]
    }
   ],
   "source": [
    "# Display dataset shapes\n",
    "print(\"Dataset shapes:\")\n",
    "print(f\"Gen1 Training: {gen1_train.shape}\")\n",
    "print(f\"Gen2 Training: {gen2_train.shape}\")\n",
    "print(f\"Gen1 Test: {gen1_test.shape}\")\n",
    "print(f\"Gen2 Test: {gen2_test.shape}\")"
   ]
  },
  {
   "cell_type": "markdown",
   "metadata": {},
   "source": [
    "### Displaying basic statistics"
   ]
  },
  {
   "cell_type": "code",
   "execution_count": 888,
   "metadata": {},
   "outputs": [
    {
     "name": "stdout",
     "output_type": "stream",
     "text": [
      "Gen1 Training Data Columns:\n",
      " ['gen1_id', 'sex_assigned_at_birth', 'age', 'SHgt_cm'] \n",
      "\n",
      "Gen1 Training Data Overview:\n",
      "           gen1_id          age      SHgt_cm\n",
      "count  3636.00000  3636.000000  3326.000000\n",
      "mean    574.80198    10.350000   135.439189\n",
      "std     114.14434     6.324272    38.831436\n",
      "min     370.00000     0.100000    50.627457\n",
      "25%     490.00000     4.750000   105.990771\n",
      "50%     569.00000    11.250000   146.593052\n",
      "75%     679.00000    15.625000   166.793640\n",
      "max     774.00000    20.000000   197.081343\n"
     ]
    }
   ],
   "source": [
    "# Gen1 training statistics\n",
    "print(\"Gen1 Training Data Columns:\\n\", gen1_train.columns.to_list(), \"\\n\")\n",
    "print(\"Gen1 Training Data Overview:\\n\", gen1_train.describe())"
   ]
  },
  {
   "cell_type": "markdown",
   "metadata": {},
   "source": [
    "We only have age, height, and sex in the gen1 training set. The age feature ranges from .1 to 20 years."
   ]
  },
  {
   "cell_type": "code",
   "execution_count": 889,
   "metadata": {},
   "outputs": [
    {
     "name": "stdout",
     "output_type": "stream",
     "text": [
      "Gen2 Training Data Columns:\n",
      " ['gen2_id', 'sex_assigned_at_birth', 'study_parent_sex', 'study_parent_id_new', 'AgeGr', 'SHgt_cm', 'Wgt_kg'] \n",
      "\n",
      "Gen2 Training Data Overview:\n",
      "            gen2_id  study_parent_id_new        AgeGr      SHgt_cm       Wgt_kg\n",
      "count  4224.000000          4224.000000  4224.000000  3712.000000  2179.000000\n",
      "mean   2650.552083           556.604167     7.140909   118.697202    38.362150\n",
      "std     139.645270           133.354678     5.646657    37.809589    16.880285\n",
      "min    1332.000000           262.000000     0.100000    49.896709     4.636903\n",
      "25%    2574.500000           453.250000     1.500000    83.766677    24.263125\n",
      "50%    2648.500000           550.500000     6.500000   121.085655    34.270051\n",
      "75%    2736.250000           668.000000    12.000000   151.367367    50.468043\n",
      "max    3012.000000           774.000000    18.000000   196.140713   112.812058\n"
     ]
    }
   ],
   "source": [
    "# Gen2 training statistics\n",
    "print(\"Gen2 Training Data Columns:\\n\", gen2_train.columns.to_list(), \"\\n\")\n",
    "print(\"Gen2 Training Data Overview:\\n\", gen2_train.describe())"
   ]
  },
  {
   "cell_type": "markdown",
   "metadata": {},
   "source": [
    "Gen2 has the same features as gen1, as well as their weight and parent's id and sex. Age ranges from .1 to 18 years."
   ]
  },
  {
   "cell_type": "code",
   "execution_count": 890,
   "metadata": {},
   "outputs": [
    {
     "name": "stdout",
     "output_type": "stream",
     "text": [
      "Gen1 Test Data Columns:\n",
      " ['gen1_id', 'sex_assigned_at_birth', 'age', 'SHgt_cm'] \n",
      "\n",
      "Gen1 Test Data Overview:\n",
      "            gen1_id          age      SHgt_cm\n",
      "count  2232.000000  2232.000000  2016.000000\n",
      "mean    570.661290    10.350000   133.756496\n",
      "std     114.745977     6.324819    38.298998\n",
      "min     368.000000     0.100000    48.391836\n",
      "25%     474.000000     4.750000   103.805282\n",
      "50%     574.000000    11.250000   145.012864\n",
      "75%     663.000000    15.625000   165.460237\n",
      "max     768.000000    20.000000   192.558592\n"
     ]
    }
   ],
   "source": [
    "# Gen1 test statistics\n",
    "print(\"Gen1 Test Data Columns:\\n\", gen1_test.columns.to_list(), \"\\n\")\n",
    "print(\"Gen1 Test Data Overview:\\n\", gen1_test.describe())"
   ]
  },
  {
   "cell_type": "markdown",
   "metadata": {},
   "source": [
    "In the gen1 test set, we have the same features and age range."
   ]
  },
  {
   "cell_type": "code",
   "execution_count": 891,
   "metadata": {},
   "outputs": [
    {
     "name": "stdout",
     "output_type": "stream",
     "text": [
      "Gen2 Test Data Columns:\n",
      " ['gen2_id', 'sex_assigned_at_birth', 'study_parent_sex', 'study_parent_id_new', 'AgeGr', 'SHgt_cm', 'Wgt_kg'] \n",
      "\n",
      "Gen2 Test Data Overview:\n",
      "            gen2_id  study_parent_id_new        AgeGr      SHgt_cm      Wgt_kg\n",
      "count  1232.000000          1232.000000  1232.000000  1100.000000  409.000000\n",
      "mean   2674.340909           542.215909     3.435714    96.240499   24.205836\n",
      "std     103.220902           131.443688     2.963793    25.654321    5.097179\n",
      "min    2332.000000           274.000000     0.100000    49.772812   14.932562\n",
      "25%    2594.250000           423.250000     0.750000    73.318169   20.279088\n",
      "50%    2673.500000           530.000000     2.500000    95.548570   23.567309\n",
      "75%    2762.500000           649.000000     6.000000   118.999817   27.337289\n",
      "max    2831.000000           768.000000     9.000000   147.217952   46.443758\n"
     ]
    }
   ],
   "source": [
    "# Gen2 test statistics\n",
    "print(\"Gen2 Test Data Columns:\\n\", gen2_test.columns.to_list(), \"\\n\")\n",
    "print(\"Gen2 Test Data Overview:\\n\", gen2_test.describe())"
   ]
  },
  {
   "cell_type": "markdown",
   "metadata": {},
   "source": [
    "The age in the gen2 test set only ranges from .1 to 9 years, so we'll predict ages 10-18. The variables are the same as the training set."
   ]
  },
  {
   "cell_type": "markdown",
   "metadata": {},
   "source": [
    "### Missing data analysis"
   ]
  },
  {
   "cell_type": "code",
   "execution_count": 892,
   "metadata": {},
   "outputs": [
    {
     "name": "stdout",
     "output_type": "stream",
     "text": [
      "Gen1 training missing data \n",
      " gen1_id                    0\n",
      "sex_assigned_at_birth      0\n",
      "age                        0\n",
      "SHgt_cm                  310\n",
      "dtype: int64 \n",
      "\n",
      "Gen2 training missing data \n",
      " gen2_id                     0\n",
      "sex_assigned_at_birth       0\n",
      "study_parent_sex            0\n",
      "study_parent_id_new         0\n",
      "AgeGr                       0\n",
      "SHgt_cm                   512\n",
      "Wgt_kg                   2045\n",
      "dtype: int64 \n",
      "\n",
      "Gen1 test missing data \n",
      " gen1_id                    0\n",
      "sex_assigned_at_birth      0\n",
      "age                        0\n",
      "SHgt_cm                  216\n",
      "dtype: int64 \n",
      "\n",
      "Gen2 test missing data \n",
      " gen2_id                    0\n",
      "sex_assigned_at_birth      0\n",
      "study_parent_sex           0\n",
      "study_parent_id_new        0\n",
      "AgeGr                      0\n",
      "SHgt_cm                  132\n",
      "Wgt_kg                   823\n",
      "dtype: int64 \n",
      "\n"
     ]
    }
   ],
   "source": [
    "# Display missing data\n",
    "print(\"Gen1 training missing data \\n\", gen1_train.isna().sum(), \"\\n\")\n",
    "print(\"Gen2 training missing data \\n\", gen2_train.isna().sum(), \"\\n\")\n",
    "print(\"Gen1 test missing data \\n\", gen1_test.isna().sum(), \"\\n\")\n",
    "print(\"Gen2 test missing data \\n\", gen2_test.isna().sum(), \"\\n\")"
   ]
  },
  {
   "cell_type": "markdown",
   "metadata": {},
   "source": [
    "There is missing data in the height and weight columns. As height is missing in almost half of all records, it may make sense to simply drop the feature. We will impute the missing height values."
   ]
  },
  {
   "cell_type": "markdown",
   "metadata": {},
   "source": [
    "### Plotting growth patterns by sex"
   ]
  },
  {
   "cell_type": "code",
   "execution_count": 893,
   "metadata": {},
   "outputs": [
    {
     "name": "stderr",
     "output_type": "stream",
     "text": [
      "/var/folders/z0/f_81q7kj32b00k_1vkb513480000gn/T/ipykernel_69273/2002946498.py:14: UserWarning: FigureCanvasAgg is non-interactive, and thus cannot be shown\n",
      "  plt.show()\n"
     ]
    }
   ],
   "source": [
    "# Plot growth (age vs height) by sex for gen2\n",
    "plt.figure(figsize=(12, 6))\n",
    "\n",
    "for sex in gen2_train['sex_assigned_at_birth'].unique():\n",
    "    data = gen2_train[gen2_train['sex_assigned_at_birth'] == sex]\n",
    "    plt.scatter(data['AgeGr'], data['SHgt_cm'], \n",
    "               alpha=0.5, label=f'Gen2 {sex}')\n",
    "\n",
    "plt.xlabel('Age (years)')\n",
    "plt.ylabel('Height (cm)')\n",
    "plt.title('Growth Patterns by Sex')\n",
    "plt.legend()\n",
    "plt.grid(True)\n",
    "plt.show()"
   ]
  },
  {
   "cell_type": "markdown",
   "metadata": {},
   "source": [
    "## Data processing and model training"
   ]
  },
  {
   "cell_type": "code",
   "execution_count": 894,
   "metadata": {},
   "outputs": [],
   "source": [
    "# Group training data by id for subsequent processing\n",
    "gen2_grouped = gen2_train.groupby('gen2_id')\n",
    "gen1_grouped = gen1_train.groupby('gen1_id')"
   ]
  },
  {
   "cell_type": "markdown",
   "metadata": {},
   "source": [
    "### Processing gen2 training data (creating features and dealing with missing values)"
   ]
  },
  {
   "cell_type": "code",
   "execution_count": 895,
   "metadata": {},
   "outputs": [
    {
     "name": "stdout",
     "output_type": "stream",
     "text": [
      "Features created: ['gen2_id', 'sex', 'parent_sex', 'height_0_3', 'height_3_6', 'height_6_9', 'mean_velocity', 'max_velocity', 'last_height', 'last_age', 'parent_adult_height', 'parent_height_0', 'parent_height_3', 'parent_height_6', 'parent_height_9', 'parent_height_12', 'parent_height_15', 'parent_height_18']\n",
      "\n",
      "Missing values after imputation: 0\n"
     ]
    }
   ],
   "source": [
    "features_list = []\n",
    "\n",
    "# Process each Gen2 individual in the training set\n",
    "for gen2_id, group in gen2_grouped:\n",
    "    # Sort each individual's data by age\n",
    "    group = group.sort_values('AgeGr')\n",
    "    \n",
    "    # Get parent data if available\n",
    "    parent_id = group['study_parent_id_new'].iloc[0]\n",
    "    parent_data = gen1_grouped.get_group(parent_id) if parent_id in gen1_grouped.groups else None\n",
    "    \n",
    "    # Calculate early growth features (0-9 years)\n",
    "    early_measurements = group[group['AgeGr'] <= 9]\n",
    "    \n",
    "    if len(early_measurements) >= 2:\n",
    "        # Calculate growth velocities (take difference in height and age between consecutive measurements and divide)\n",
    "        velocities = np.diff(early_measurements['SHgt_cm'].values) / \\\n",
    "                    np.diff(early_measurements['AgeGr'].values)\n",
    "        \n",
    "        # Calculate growth features (average of different age intervals)\n",
    "        height_0_3 = early_measurements[early_measurements['AgeGr'] <= 3]['SHgt_cm'].mean()\n",
    "        height_3_6 = early_measurements[(early_measurements['AgeGr'] > 3) & \n",
    "                                     (early_measurements['AgeGr'] <= 6)]['SHgt_cm'].mean()\n",
    "        height_6_9 = early_measurements[(early_measurements['AgeGr'] > 6) & \n",
    "                                     (early_measurements['AgeGr'] <= 9)]['SHgt_cm'].mean()\n",
    "        \n",
    "        # Get parent features if available\n",
    "        if parent_data is not None:\n",
    "            # Get parent height as an adult (after age 18)\n",
    "            parent_adult_height = parent_data[parent_data['age'] >= 18]['SHgt_cm'].mean()\n",
    "            # Get parent growth pattern (mean height in different age intervals)\n",
    "            parent_growth_pattern = np.array([\n",
    "                parent_data[(parent_data['age'] >= a) & (parent_data['age'] < a + 3)]['SHgt_cm'].mean()\n",
    "                for a in range(0, 19, 3)\n",
    "            ])\n",
    "        else:\n",
    "            # Use -1 as a flag for missing parent data\n",
    "            parent_adult_height = -1  \n",
    "            parent_growth_pattern = np.full(7, -1)\n",
    "        \n",
    "        # Create feature dictionary\n",
    "        features = {\n",
    "            'gen2_id': gen2_id,\n",
    "            'sex': group['sex_assigned_at_birth'].iloc[0],\n",
    "            'parent_sex': group['study_parent_sex'].iloc[0],\n",
    "            'height_0_3': height_0_3 if not np.isnan(height_0_3) else -1,\n",
    "            'height_3_6': height_3_6 if not np.isnan(height_3_6) else -1,\n",
    "            'height_6_9': height_6_9 if not np.isnan(height_6_9) else -1,\n",
    "            'mean_velocity': np.mean(velocities) if len(velocities) > 0 else -1,\n",
    "            'max_velocity': np.max(velocities) if len(velocities) > 0 else -1,\n",
    "            'last_height': early_measurements['SHgt_cm'].iloc[-1],\n",
    "            'last_age': early_measurements['AgeGr'].iloc[-1],\n",
    "            'parent_adult_height': parent_adult_height\n",
    "        }\n",
    "        \n",
    "        # Add parent growth pattern features\n",
    "        for i, height in enumerate(parent_growth_pattern):\n",
    "            features[f'parent_height_{i*3}'] = height\n",
    "        \n",
    "        features_list.append(features)\n",
    "\n",
    "# Create dataframe for features\n",
    "features_df = pd.DataFrame(features_list)\n",
    "\n",
    "# Handle missing values using median imputation\n",
    "features_df.replace(-1, np.nan, inplace=True)\n",
    "numeric_features = features_df.select_dtypes(include=[np.number]).columns\n",
    "imputer = SimpleImputer(strategy='median')\n",
    "features_df[numeric_features] = imputer.fit_transform(features_df[numeric_features])\n",
    "\n",
    "print(\"Features created:\", features_df.columns.tolist())\n",
    "print(\"\\nMissing values after imputation:\", features_df.isnull().sum().sum())\n"
   ]
  },
  {
   "cell_type": "code",
   "execution_count": 896,
   "metadata": {},
   "outputs": [],
   "source": [
    "le_sex = LabelEncoder()\n",
    "le_parent_sex = LabelEncoder()\n",
    "\n",
    "# Encode sex features with label encoder\n",
    "features_df['sex_encoded'] = le_sex.fit_transform(features_df['sex'])\n",
    "features_df['parent_sex_encoded'] = le_parent_sex.fit_transform(features_df['parent_sex'])"
   ]
  },
  {
   "cell_type": "markdown",
   "metadata": {},
   "source": [
    "### Training models to predict height at each age (10-18)"
   ]
  },
  {
   "cell_type": "code",
   "execution_count": 897,
   "metadata": {},
   "outputs": [
    {
     "name": "stdout",
     "output_type": "stream",
     "text": [
      "Age 10 - R² Score: 0.973\n",
      "Age 11 - R² Score: 0.939\n",
      "Age 12 - R² Score: 0.906\n",
      "Age 13 - R² Score: 0.870\n",
      "Age 14 - R² Score: 0.839\n",
      "Age 15 - R² Score: 0.868\n",
      "Age 16 - R² Score: 0.895\n",
      "Age 18 - R² Score: 0.903\n"
     ]
    }
   ],
   "source": [
    "target_ages = [10, 11, 12, 13, 14, 15, 16, 18]\n",
    "\n",
    "models = {}\n",
    "\n",
    "for age in target_ages:\n",
    "    # Get heights at target age from training data\n",
    "    target_heights = []\n",
    "    for gen2_id in features_df['gen2_id']:\n",
    "        # Extract height for specified target age\n",
    "        height = gen2_train[(gen2_train['gen2_id'] == gen2_id) & \n",
    "                          (gen2_train['AgeGr'].round() == age)]['SHgt_cm'].values\n",
    "        # Append height to target heights\n",
    "        target_heights.append(height[0] if len(height) > 0 else np.nan)\n",
    "    \n",
    "    # Remove rows with missing target\n",
    "    valid_mask = ~np.isnan(target_heights)\n",
    "    X = features_df[valid_mask].drop(['gen2_id', 'sex', 'parent_sex'], axis=1)\n",
    "    y = np.array(target_heights)[valid_mask]\n",
    "    \n",
    "    # Train model for this age\n",
    "    model = XGBRegressor(objective=\"reg:squarederror\", n_estimators=300, learning_rate=0.01, min_child_weight=1, max_depth=3, colsample_bytree=0.8, subsample=0.8)\n",
    "    model.fit(X, y)\n",
    "    models[age] = model\n",
    "    \n",
    "    # Print model performance\n",
    "    y_pred = model.predict(X)\n",
    "    print(f\"Age {age} - R² Score: {r2_score(y, y_pred):.3f}\")\n",
    "\n",
    "feature_columns = X.columns\n"
   ]
  },
  {
   "cell_type": "markdown",
   "metadata": {},
   "source": [
    "### Processing gen2 test data (creating features and dealing with missing values)"
   ]
  },
  {
   "cell_type": "code",
   "execution_count": 898,
   "metadata": {},
   "outputs": [],
   "source": [
    "# Group training data by id for subsequent processing\n",
    "gen2_test_grouped = gen2_test.groupby('gen2_id')\n",
    "gen1_test_grouped = gen1_test.groupby('gen1_id')"
   ]
  },
  {
   "cell_type": "code",
   "execution_count": 899,
   "metadata": {},
   "outputs": [],
   "source": [
    "# Get id and age format from template\n",
    "template_ids = set(template['gen2id_age'].apply(lambda x: x.split('_')[0]))\n",
    "target_ages = sorted(set(template['gen2id_age'].apply(lambda x: int(x.split('_')[1]))))"
   ]
  },
  {
   "cell_type": "code",
   "execution_count": 900,
   "metadata": {},
   "outputs": [],
   "source": [
    "test_features_list = []\n",
    "\n",
    "# Process each Gen2 individual in the test set\n",
    "for gen2_id, group in gen2_test_grouped:\n",
    "    if str(gen2_id) in template_ids:  # Only process IDs from template\n",
    "        # Sort each individual's data by age\n",
    "        group = group.sort_values('AgeGr')\n",
    "\n",
    "        # Get parent data if available\n",
    "        parent_id = group['study_parent_id_new'].iloc[0]\n",
    "        parent_data = gen1_test_grouped.get_group(parent_id) if parent_id in gen1_test_grouped.groups else None\n",
    "\n",
    "        # Calculate early growth features (0-9 years)\n",
    "        early_measurements = group[group['AgeGr'] <= 9]\n",
    "\n",
    "        # Calculate growth velocities (take difference in height and age between consecutive measurements and divide)\n",
    "        velocities = np.diff(early_measurements['SHgt_cm'].values) / \\\n",
    "                    np.diff(early_measurements['AgeGr'].values) if len(early_measurements) >= 2 else np.array([-1])\n",
    "        \n",
    "        # Calculate growth features (average of different age intervals)\n",
    "        height_0_3 = early_measurements[early_measurements['AgeGr'] <= 3]['SHgt_cm'].mean()\n",
    "        height_3_6 = early_measurements[(early_measurements['AgeGr'] > 3) & \n",
    "                                     (early_measurements['AgeGr'] <= 6)]['SHgt_cm'].mean()\n",
    "        height_6_9 = early_measurements[(early_measurements['AgeGr'] > 6) & \n",
    "                                     (early_measurements['AgeGr'] <= 9)]['SHgt_cm'].mean()\n",
    "        \n",
    "        # Get parent features if available\n",
    "        if parent_data is not None:\n",
    "            # Get parent height as an adult (after age 18)\n",
    "            parent_adult_height = parent_data[parent_data['age'] >= 18]['SHgt_cm'].mean()\n",
    "            # Get parent growth pattern (mean height in different age intervals)\n",
    "            parent_growth_pattern = np.array([\n",
    "                parent_data[(parent_data['age'] >= a) & (parent_data['age'] < a + 3)]['SHgt_cm'].mean()\n",
    "                for a in range(0, 19, 3)\n",
    "            ])\n",
    "        else:\n",
    "            # Use -1 as a flag for missing parent data\n",
    "            parent_adult_height = -1\n",
    "            parent_growth_pattern = np.full(7, -1)\n",
    "        \n",
    "        # Create feature dictionary\n",
    "        features = {\n",
    "            'gen2_id': gen2_id,\n",
    "            'sex': group['sex_assigned_at_birth'].iloc[0],\n",
    "            'parent_sex': group['study_parent_sex'].iloc[0],\n",
    "            'height_0_3': height_0_3 if not np.isnan(height_0_3) else -1,\n",
    "            'height_3_6': height_3_6 if not np.isnan(height_3_6) else -1,\n",
    "            'height_6_9': height_6_9 if not np.isnan(height_6_9) else -1,\n",
    "            'mean_velocity': np.mean(velocities) if len(velocities) > 0 else -1,\n",
    "            'max_velocity': np.max(velocities) if len(velocities) > 0 else -1,\n",
    "            'last_height': early_measurements['SHgt_cm'].iloc[-1],\n",
    "            'last_age': early_measurements['AgeGr'].iloc[-1],\n",
    "            'parent_adult_height': parent_adult_height\n",
    "        }\n",
    "        \n",
    "        # Add parent growth pattern features\n",
    "        for i, height in enumerate(parent_growth_pattern):\n",
    "            features[f'parent_height_{i*3}'] = height\n",
    "        \n",
    "        test_features_list.append(features)\n",
    "\n",
    "# Create dataframe for features\n",
    "test_features = pd.DataFrame(test_features_list)"
   ]
  },
  {
   "cell_type": "code",
   "execution_count": 901,
   "metadata": {},
   "outputs": [],
   "source": [
    "# Handle missing values in test features using the same imputer\n",
    "test_features.replace(-1, np.nan, inplace=True)\n",
    "test_features[numeric_features] = imputer.transform(test_features[numeric_features])\n",
    "\n",
    "# Encode categorical variables\n",
    "test_features['sex_encoded'] = le_sex.transform(test_features['sex'])\n",
    "test_features['parent_sex_encoded'] = le_parent_sex.transform(test_features['parent_sex'])\n"
   ]
  },
  {
   "cell_type": "markdown",
   "metadata": {},
   "source": [
    "## Making predictions with model"
   ]
  },
  {
   "cell_type": "code",
   "execution_count": 902,
   "metadata": {},
   "outputs": [],
   "source": [
    "# Initialize empty list to store predictions\n",
    "predictions_list = []\n",
    "\n",
    "# Iterate through templace df to find ids and ages we need to predict for\n",
    "for _, row in template.iterrows():\n",
    "    # Extract id and age\n",
    "    gen2_id, age = row['gen2id_age'].split('_')\n",
    "    age = int(age)\n",
    "    \n",
    "    # If subject is in the template file, extract feature set from the test features\n",
    "    if str(gen2_id) in template_ids:\n",
    "        subject_features = test_features[test_features['gen2_id'] == int(gen2_id)].drop(\n",
    "            ['gen2_id', 'sex', 'parent_sex'], axis=1\n",
    "        )\n",
    "        \n",
    "        # Make a prediction with the pre-trained model for a given age\n",
    "        prediction = models[age].predict(subject_features)[0]\n",
    "        \n",
    "        # Store the predictions\n",
    "        predictions_list.append({\n",
    "            'gen2id_age': f\"{gen2_id}_{age}\",\n",
    "            'SHgt_cm': round(prediction, 2)\n",
    "        })\n",
    "\n",
    "# Create dataframe for predictions\n",
    "predictions = pd.DataFrame(predictions_list)\n"
   ]
  },
  {
   "cell_type": "code",
   "execution_count": 903,
   "metadata": {},
   "outputs": [
    {
     "name": "stdout",
     "output_type": "stream",
     "text": [
      "  gen2id_age     SHgt_cm\n",
      "0    2831_10  139.009995\n",
      "1    2831_11  145.259995\n",
      "2    2831_12  151.589996\n",
      "3    2831_13  158.149994\n",
      "4    2831_14  163.070007\n"
     ]
    }
   ],
   "source": [
    "# Print subset of predictions\n",
    "print(predictions.head())"
   ]
  },
  {
   "cell_type": "code",
   "execution_count": 904,
   "metadata": {},
   "outputs": [],
   "source": [
    "# Save predictions to csv for submission\n",
    "predictions.to_csv(\"prediction.csv\", index=False)"
   ]
  },
  {
   "cell_type": "markdown",
   "metadata": {},
   "source": [
    "## Plotting predictions"
   ]
  },
  {
   "cell_type": "code",
   "execution_count": 905,
   "metadata": {},
   "outputs": [
    {
     "name": "stderr",
     "output_type": "stream",
     "text": [
      "/var/folders/z0/f_81q7kj32b00k_1vkb513480000gn/T/ipykernel_69273/2467253868.py:22: UserWarning: FigureCanvasAgg is non-interactive, and thus cannot be shown\n",
      "  plt.show()\n"
     ]
    }
   ],
   "source": [
    "# Plot growth predictions for a sample of gen2 (3 aliens)\n",
    "\n",
    "plt.figure(figsize=(12, 6))\n",
    "\n",
    "for gen2_id in predictions['gen2id_age'].str.split('_').str[0].unique()[:3]:\n",
    "    # Plot actual data\n",
    "    actual_data = gen2_test[gen2_test['gen2_id'] == int(gen2_id)]\n",
    "    plt.scatter(actual_data['AgeGr'], actual_data['SHgt_cm'], \n",
    "               label=f'Actual {gen2_id}', alpha=0.7)\n",
    "    \n",
    "    # Plot predictions\n",
    "    pred_data = predictions[predictions['gen2id_age'].str.startswith(gen2_id)]\n",
    "    ages = pred_data['gen2id_age'].str.split('_').str[1].astype(float)\n",
    "    plt.plot(ages, pred_data['SHgt_cm'], '--', \n",
    "            label=f'Predicted {gen2_id}', alpha=0.7)\n",
    "\n",
    "plt.xlabel('Age (years)')\n",
    "plt.ylabel('Height (cm)')\n",
    "plt.title('Sample Growth Predictions')\n",
    "plt.legend()\n",
    "plt.grid(True)\n",
    "plt.show()"
   ]
  },
  {
   "cell_type": "markdown",
   "metadata": {},
   "source": [
    "## Hereditary Analysis"
   ]
  },
  {
   "cell_type": "markdown",
   "metadata": {},
   "source": [
    "Defining new feature set with final child height, pubertal growth spurt magnitude and timing"
   ]
  },
  {
   "cell_type": "code",
   "execution_count": 906,
   "metadata": {},
   "outputs": [],
   "source": [
    "features_list = []\n",
    "\n",
    "# Process each Gen2 individual\n",
    "for gen2_id, group in gen2_grouped:\n",
    "    # Sort by age\n",
    "    group = group.sort_values('AgeGr')\n",
    "\n",
    "    # Get parent data if available\n",
    "    parent_id = group['study_parent_id_new'].iloc[0]\n",
    "    parent_data = gen1_grouped.get_group(parent_id) if parent_id in gen1_grouped.groups else None\n",
    "\n",
    "    # Initialize feature dictionary\n",
    "    features = {'gen2_id': gen2_id}\n",
    "\n",
    "    # Add child sex\n",
    "    features['child_sex'] = group['sex_assigned_at_birth'].iloc[0]\n",
    "\n",
    "    # Compute child growth magnitude (9-15 years)\n",
    "    height_9 = group[group['AgeGr'] == 9]['SHgt_cm'].mean()\n",
    "    height_15 = group[group['AgeGr'] == 15]['SHgt_cm'].mean()\n",
    "\n",
    "    if not np.isnan(height_9) and not np.isnan(height_15):\n",
    "        features['growth_magnitude_9_15'] = height_15 - height_9\n",
    "    else:\n",
    "        features['growth_magnitude_9_15'] = np.nan  # Missing value\n",
    "\n",
    "    # Get child adult height (last available height)\n",
    "    features['child_adult_height'] = group['SHgt_cm'].iloc[-1]\n",
    "\n",
    "    # Compute parent growth velocities if parent data is available\n",
    "    if parent_data is not None:\n",
    "        parent_data = parent_data.sort_values('age')\n",
    "        parent_heights = parent_data['SHgt_cm'].values\n",
    "        parent_ages = parent_data['age'].values\n",
    "\n",
    "        # Compute velocities between consecutive age points\n",
    "        parent_velocities = np.diff(parent_heights) / np.diff(parent_ages)\n",
    "\n",
    "        # Store velocities with appropriate labels\n",
    "        for i in range(len(parent_velocities)):\n",
    "            age_start, age_end = parent_ages[i], parent_ages[i + 1]\n",
    "            features[f'parent_velocity_{int(age_start)}_{int(age_end)}'] = parent_velocities[i]\n",
    "        \n",
    "        features['parent_sex'] = parent_data['sex_assigned_at_birth'].iloc[0]\n",
    "\n",
    "    # Append features to the list\n",
    "    features_list.append(features)\n",
    "\n",
    "# Convert to DataFrame\n",
    "features_df = pd.DataFrame(features_list)\n",
    "\n",
    "# Encode child and parent sex\n",
    "encoder = LabelEncoder()\n",
    "features_df['child_sex_encoded'] = encoder.fit_transform(features_df['child_sex'])\n",
    "features_df['parent_sex_encoded'] = encoder.fit_transform(features_df['parent_sex'])\n",
    "\n",
    "# Handle missing values\n",
    "features_df.replace(-1, np.nan, inplace=True)\n",
    "numeric_features = features_df.select_dtypes(include=[np.number]).columns\n",
    "imputer = SimpleImputer(strategy='median')\n",
    "features_df[numeric_features] = imputer.fit_transform(features_df[numeric_features])"
   ]
  },
  {
   "cell_type": "code",
   "execution_count": 907,
   "metadata": {},
   "outputs": [],
   "source": [
    "features_list = []\n",
    "\n",
    "# Process each Gen2 individual\n",
    "for gen2_id, group in gen2_grouped:\n",
    "    # Sort by age\n",
    "    group = group.sort_values('AgeGr')\n",
    "\n",
    "    # Get measurements in the 9-15 age range\n",
    "    puberty_measurements = group[(group['AgeGr'] >= 9) & (group['AgeGr'] <= 15)]\n",
    "\n",
    "    if len(puberty_measurements) >= 2:\n",
    "        # Compute growth velocities\n",
    "        velocities = np.diff(puberty_measurements['SHgt_cm'].values) / np.diff(puberty_measurements['AgeGr'].values)\n",
    "        velocity_ages = puberty_measurements['AgeGr'].values[1:]  # Age values corresponding to velocities\n",
    "\n",
    "        # Identify growth spurt onset (first age where velocity is above 90th percentile of pre-puberty)\n",
    "        threshold = np.percentile(velocities, 90)\n",
    "        onset_index = np.where(velocities > threshold)[0]\n",
    "        onset_age = velocity_ages[onset_index[0]] if len(onset_index) > 0 else -1\n",
    "\n",
    "        # Identify duration (years between onset and velocity drop)\n",
    "        if onset_age != -1:\n",
    "            decline_index = np.where(velocities[onset_index[0]:] < threshold / 2)[0]\n",
    "            end_age = velocity_ages[onset_index[0] + decline_index[0]] if len(decline_index) > 0 else -1\n",
    "            duration = end_age - onset_age if end_age != -1 else -1\n",
    "        else:\n",
    "            duration = -1\n",
    "\n",
    "    else:\n",
    "        onset_age = -1\n",
    "        duration = -1\n",
    "\n",
    "    # Append to features list\n",
    "    features = {\n",
    "        'gen2_id': gen2_id,\n",
    "        'puberty_onset_age': onset_age,\n",
    "        'puberty_duration': duration,\n",
    "    }\n",
    "    features_list.append(features)\n",
    "\n",
    "# Convert to DataFrame\n",
    "puberty_features_df = pd.DataFrame(features_list)\n",
    "\n",
    "# Merge with the main feature DataFrame\n",
    "features_df = features_df.merge(puberty_features_df, on='gen2_id', how='left')\n",
    "\n",
    "# Handle missing values\n",
    "features_df.replace(-1, np.nan, inplace=True)\n",
    "numeric_features = features_df.select_dtypes(include=[np.number]).columns\n",
    "imputer = SimpleImputer(strategy='median')\n",
    "features_df[numeric_features] = imputer.fit_transform(features_df[numeric_features])\n",
    "\n",
    "invalid_velocities = [col for col in features_df.columns if \"parent_velocity_\" in col and col.split(\"_\")[-2] == col.split(\"_\")[-1]]\n",
    "features_df = features_df.drop(columns=invalid_velocities)"
   ]
  },
  {
   "cell_type": "code",
   "execution_count": 908,
   "metadata": {},
   "outputs": [
    {
     "data": {
      "text/html": [
       "<div>\n",
       "<style scoped>\n",
       "    .dataframe tbody tr th:only-of-type {\n",
       "        vertical-align: middle;\n",
       "    }\n",
       "\n",
       "    .dataframe tbody tr th {\n",
       "        vertical-align: top;\n",
       "    }\n",
       "\n",
       "    .dataframe thead th {\n",
       "        text-align: right;\n",
       "    }\n",
       "</style>\n",
       "<table border=\"1\" class=\"dataframe\">\n",
       "  <thead>\n",
       "    <tr style=\"text-align: right;\">\n",
       "      <th></th>\n",
       "      <th>gen2_id</th>\n",
       "      <th>child_sex</th>\n",
       "      <th>growth_magnitude_9_15</th>\n",
       "      <th>child_adult_height</th>\n",
       "      <th>parent_velocity_0_1</th>\n",
       "      <th>parent_velocity_1_2</th>\n",
       "      <th>parent_velocity_2_3</th>\n",
       "      <th>parent_velocity_3_4</th>\n",
       "      <th>parent_velocity_4_5</th>\n",
       "      <th>parent_velocity_5_6</th>\n",
       "      <th>...</th>\n",
       "      <th>parent_velocity_15_16</th>\n",
       "      <th>parent_velocity_16_17</th>\n",
       "      <th>parent_velocity_17_18</th>\n",
       "      <th>parent_velocity_18_19</th>\n",
       "      <th>parent_velocity_19_20</th>\n",
       "      <th>parent_sex</th>\n",
       "      <th>child_sex_encoded</th>\n",
       "      <th>parent_sex_encoded</th>\n",
       "      <th>puberty_onset_age</th>\n",
       "      <th>puberty_duration</th>\n",
       "    </tr>\n",
       "  </thead>\n",
       "  <tbody>\n",
       "    <tr>\n",
       "      <th>0</th>\n",
       "      <td>1332.0</td>\n",
       "      <td>F</td>\n",
       "      <td>33.091413</td>\n",
       "      <td>173.976377</td>\n",
       "      <td>15.376466</td>\n",
       "      <td>11.902299</td>\n",
       "      <td>9.583953</td>\n",
       "      <td>7.451248</td>\n",
       "      <td>6.740948</td>\n",
       "      <td>6.105556</td>\n",
       "      <td>...</td>\n",
       "      <td>1.851422</td>\n",
       "      <td>0.982139</td>\n",
       "      <td>0.800961</td>\n",
       "      <td>0.620331</td>\n",
       "      <td>1.36898</td>\n",
       "      <td>NaN</td>\n",
       "      <td>0.0</td>\n",
       "      <td>2.0</td>\n",
       "      <td>13.0</td>\n",
       "      <td>2.0</td>\n",
       "    </tr>\n",
       "    <tr>\n",
       "      <th>1</th>\n",
       "      <td>2330.0</td>\n",
       "      <td>F</td>\n",
       "      <td>33.091413</td>\n",
       "      <td>173.976377</td>\n",
       "      <td>15.376466</td>\n",
       "      <td>11.902299</td>\n",
       "      <td>9.583953</td>\n",
       "      <td>7.451248</td>\n",
       "      <td>6.740948</td>\n",
       "      <td>6.105556</td>\n",
       "      <td>...</td>\n",
       "      <td>1.851422</td>\n",
       "      <td>0.982139</td>\n",
       "      <td>0.800961</td>\n",
       "      <td>0.620331</td>\n",
       "      <td>1.36898</td>\n",
       "      <td>NaN</td>\n",
       "      <td>0.0</td>\n",
       "      <td>2.0</td>\n",
       "      <td>13.0</td>\n",
       "      <td>2.0</td>\n",
       "    </tr>\n",
       "    <tr>\n",
       "      <th>2</th>\n",
       "      <td>2331.0</td>\n",
       "      <td>M</td>\n",
       "      <td>33.091413</td>\n",
       "      <td>173.976377</td>\n",
       "      <td>15.376466</td>\n",
       "      <td>11.902299</td>\n",
       "      <td>9.583953</td>\n",
       "      <td>7.451248</td>\n",
       "      <td>6.740948</td>\n",
       "      <td>6.105556</td>\n",
       "      <td>...</td>\n",
       "      <td>1.851422</td>\n",
       "      <td>0.982139</td>\n",
       "      <td>0.800961</td>\n",
       "      <td>0.620331</td>\n",
       "      <td>1.36898</td>\n",
       "      <td>NaN</td>\n",
       "      <td>1.0</td>\n",
       "      <td>2.0</td>\n",
       "      <td>13.0</td>\n",
       "      <td>2.0</td>\n",
       "    </tr>\n",
       "    <tr>\n",
       "      <th>3</th>\n",
       "      <td>2505.0</td>\n",
       "      <td>F</td>\n",
       "      <td>33.091413</td>\n",
       "      <td>173.976377</td>\n",
       "      <td>15.376466</td>\n",
       "      <td>11.902299</td>\n",
       "      <td>9.583953</td>\n",
       "      <td>7.451248</td>\n",
       "      <td>6.740948</td>\n",
       "      <td>6.105556</td>\n",
       "      <td>...</td>\n",
       "      <td>1.851422</td>\n",
       "      <td>0.982139</td>\n",
       "      <td>0.800961</td>\n",
       "      <td>0.620331</td>\n",
       "      <td>1.36898</td>\n",
       "      <td>NaN</td>\n",
       "      <td>0.0</td>\n",
       "      <td>2.0</td>\n",
       "      <td>13.0</td>\n",
       "      <td>2.0</td>\n",
       "    </tr>\n",
       "    <tr>\n",
       "      <th>4</th>\n",
       "      <td>2507.0</td>\n",
       "      <td>F</td>\n",
       "      <td>33.091413</td>\n",
       "      <td>173.976377</td>\n",
       "      <td>15.376466</td>\n",
       "      <td>11.902299</td>\n",
       "      <td>9.583953</td>\n",
       "      <td>7.451248</td>\n",
       "      <td>6.740948</td>\n",
       "      <td>6.105556</td>\n",
       "      <td>...</td>\n",
       "      <td>1.851422</td>\n",
       "      <td>0.982139</td>\n",
       "      <td>0.800961</td>\n",
       "      <td>0.620331</td>\n",
       "      <td>1.36898</td>\n",
       "      <td>NaN</td>\n",
       "      <td>0.0</td>\n",
       "      <td>2.0</td>\n",
       "      <td>13.0</td>\n",
       "      <td>2.0</td>\n",
       "    </tr>\n",
       "  </tbody>\n",
       "</table>\n",
       "<p>5 rows × 29 columns</p>\n",
       "</div>"
      ],
      "text/plain": [
       "   gen2_id child_sex  growth_magnitude_9_15  child_adult_height  \\\n",
       "0   1332.0         F              33.091413          173.976377   \n",
       "1   2330.0         F              33.091413          173.976377   \n",
       "2   2331.0         M              33.091413          173.976377   \n",
       "3   2505.0         F              33.091413          173.976377   \n",
       "4   2507.0         F              33.091413          173.976377   \n",
       "\n",
       "   parent_velocity_0_1  parent_velocity_1_2  parent_velocity_2_3  \\\n",
       "0            15.376466            11.902299             9.583953   \n",
       "1            15.376466            11.902299             9.583953   \n",
       "2            15.376466            11.902299             9.583953   \n",
       "3            15.376466            11.902299             9.583953   \n",
       "4            15.376466            11.902299             9.583953   \n",
       "\n",
       "   parent_velocity_3_4  parent_velocity_4_5  parent_velocity_5_6  ...  \\\n",
       "0             7.451248             6.740948             6.105556  ...   \n",
       "1             7.451248             6.740948             6.105556  ...   \n",
       "2             7.451248             6.740948             6.105556  ...   \n",
       "3             7.451248             6.740948             6.105556  ...   \n",
       "4             7.451248             6.740948             6.105556  ...   \n",
       "\n",
       "   parent_velocity_15_16  parent_velocity_16_17  parent_velocity_17_18  \\\n",
       "0               1.851422               0.982139               0.800961   \n",
       "1               1.851422               0.982139               0.800961   \n",
       "2               1.851422               0.982139               0.800961   \n",
       "3               1.851422               0.982139               0.800961   \n",
       "4               1.851422               0.982139               0.800961   \n",
       "\n",
       "   parent_velocity_18_19  parent_velocity_19_20  parent_sex  \\\n",
       "0               0.620331                1.36898         NaN   \n",
       "1               0.620331                1.36898         NaN   \n",
       "2               0.620331                1.36898         NaN   \n",
       "3               0.620331                1.36898         NaN   \n",
       "4               0.620331                1.36898         NaN   \n",
       "\n",
       "   child_sex_encoded  parent_sex_encoded  puberty_onset_age  puberty_duration  \n",
       "0                0.0                 2.0               13.0               2.0  \n",
       "1                0.0                 2.0               13.0               2.0  \n",
       "2                1.0                 2.0               13.0               2.0  \n",
       "3                0.0                 2.0               13.0               2.0  \n",
       "4                0.0                 2.0               13.0               2.0  \n",
       "\n",
       "[5 rows x 29 columns]"
      ]
     },
     "execution_count": 908,
     "metadata": {},
     "output_type": "execute_result"
    }
   ],
   "source": [
    "features_df.head()"
   ]
  },
  {
   "cell_type": "markdown",
   "metadata": {},
   "source": [
    "### (a) Final Height at Adulthood"
   ]
  },
  {
   "cell_type": "code",
   "execution_count": 909,
   "metadata": {},
   "outputs": [],
   "source": [
    "# Define target and predictors\n",
    "X = features_df.filter(like='parent_velocity')  # Select all parent velocity features\n",
    "y = features_df['child_adult_height']  \n",
    "\n",
    "X_train, X_test, y_train, y_test = train_test_split(X, y, test_size=0.2, random_state=42)\n",
    "\n",
    "# Train XGBoost model\n",
    "xgb_model = XGBRegressor(objective=\"reg:squarederror\", n_estimators=300, learning_rate=0.01, min_child_weight=1, max_depth=3, colsample_bytree=0.8, subsample=0.8)\n",
    "xgb_model.fit(X_train, y_train)\n",
    "\n",
    "# Predictions\n",
    "y_pred = xgb_model.predict(X_test)"
   ]
  },
  {
   "cell_type": "code",
   "execution_count": 910,
   "metadata": {},
   "outputs": [
    {
     "name": "stderr",
     "output_type": "stream",
     "text": [
      "/opt/anaconda3/lib/python3.11/site-packages/shap/plots/_beeswarm.py:952: UserWarning: FigureCanvasAgg is non-interactive, and thus cannot be shown\n",
      "  pl.show()\n"
     ]
    }
   ],
   "source": [
    "# Create SHAP explainer\n",
    "explainer = shap.Explainer(xgb_model, X_train)\n",
    "shap_values = explainer(X_test)\n",
    "\n",
    "plt.figure()\n",
    "\n",
    "# Summary plot (global feature importance)\n",
    "shap.summary_plot(shap_values, X_test)\n",
    "\n",
    "# Save the plot\n",
    "plt.savefig(\"final_height_shap.png\", dpi=300, bbox_inches='tight')\n",
    "\n",
    "# Close the plot to free memory\n",
    "plt.close()"
   ]
  },
  {
   "cell_type": "markdown",
   "metadata": {},
   "source": [
    "### (b) Growth Spurt Magnitude"
   ]
  },
  {
   "cell_type": "code",
   "execution_count": 911,
   "metadata": {},
   "outputs": [],
   "source": [
    "# Define target and predictors\n",
    "X = features_df[[col for col in features_df.columns if \"parent_velocity_\" in col \n",
    "                 and int(col.split(\"_\")[-2]) < 15 and int(col.split(\"_\")[-1]) < 15]]\n",
    "y = features_df['growth_magnitude_9_15'] \n",
    "\n",
    "X_train, X_test, y_train, y_test = train_test_split(X, y, test_size=0.2, random_state=42)\n",
    "\n",
    "# Train XGBoost model\n",
    "xgb_model = XGBRegressor(objective=\"reg:squarederror\", n_estimators=300, learning_rate=0.01, min_child_weight=1, max_depth=3, colsample_bytree=0.8, subsample=0.8)\n",
    "xgb_model.fit(X_train, y_train)\n",
    "\n",
    "# Predictions\n",
    "y_pred = xgb_model.predict(X_test)"
   ]
  },
  {
   "cell_type": "code",
   "execution_count": 912,
   "metadata": {},
   "outputs": [
    {
     "name": "stderr",
     "output_type": "stream",
     "text": [
      "/opt/anaconda3/lib/python3.11/site-packages/shap/plots/_beeswarm.py:952: UserWarning: FigureCanvasAgg is non-interactive, and thus cannot be shown\n",
      "  pl.show()\n"
     ]
    }
   ],
   "source": [
    "# Create SHAP explainer\n",
    "explainer = shap.Explainer(xgb_model, X_train)\n",
    "shap_values = explainer(X_test)\n",
    "\n",
    "plt.figure()\n",
    "\n",
    "# Summary plot (global feature importance)\n",
    "shap.summary_plot(shap_values, X_test)\n",
    "\n",
    "# Save the plot\n",
    "plt.savefig(\"growth_magnitude_shap.png\", dpi=300, bbox_inches='tight')\n",
    "\n",
    "# Close the plot to free memory\n",
    "plt.close()"
   ]
  },
  {
   "cell_type": "markdown",
   "metadata": {},
   "source": [
    "### (c) Growth Spurt Timing"
   ]
  },
  {
   "cell_type": "code",
   "execution_count": 913,
   "metadata": {},
   "outputs": [],
   "source": [
    "# Define target and predictors\n",
    "X = features_df[[col for col in features_df.columns if \"parent_velocity_\" in col \n",
    "                 and int(col.split(\"_\")[-2]) < 15 and int(col.split(\"_\")[-1]) < 15]]\n",
    "y = features_df['puberty_onset_age'] \n",
    "\n",
    "X_train, X_test, y_train, y_test = train_test_split(X, y, test_size=0.2, random_state=42)\n",
    "\n",
    "# Train XGBoost model\n",
    "xgb_model = XGBRegressor(objective=\"reg:squarederror\", n_estimators=300, learning_rate=0.01, min_child_weight=1, max_depth=3, colsample_bytree=0.8, subsample=0.8)\n",
    "xgb_model.fit(X_train, y_train)\n",
    "\n",
    "# Predictions\n",
    "y_pred = xgb_model.predict(X_test)"
   ]
  },
  {
   "cell_type": "code",
   "execution_count": 914,
   "metadata": {},
   "outputs": [
    {
     "name": "stderr",
     "output_type": "stream",
     "text": [
      "/opt/anaconda3/lib/python3.11/site-packages/shap/plots/_beeswarm.py:952: UserWarning: FigureCanvasAgg is non-interactive, and thus cannot be shown\n",
      "  pl.show()\n"
     ]
    }
   ],
   "source": [
    "# Create SHAP explainer\n",
    "explainer = shap.Explainer(xgb_model, X_train)\n",
    "shap_values = explainer(X_test)\n",
    "\n",
    "plt.figure()\n",
    "\n",
    "# Summary plot (global feature importance)\n",
    "shap.summary_plot(shap_values, X_test)\n",
    "\n",
    "# Save the plot\n",
    "plt.savefig(\"growth_timing_shap.png\", dpi=300, bbox_inches='tight')\n",
    "\n",
    "# Close the plot to free memory\n",
    "plt.close()"
   ]
  },
  {
   "cell_type": "code",
   "execution_count": 915,
   "metadata": {},
   "outputs": [],
   "source": [
    "# Define target and predictors\n",
    "X = features_df[[col for col in features_df.columns if \"parent_velocity_\" in col \n",
    "                 and int(col.split(\"_\")[-2]) < 15 and int(col.split(\"_\")[-1]) < 15]]\n",
    "y = features_df['puberty_duration'] \n",
    "\n",
    "X_train, X_test, y_train, y_test = train_test_split(X, y, test_size=0.2, random_state=42)\n",
    "\n",
    "# Train XGBoost model\n",
    "xgb_model = XGBRegressor(objective=\"reg:squarederror\", n_estimators=300, learning_rate=0.01, min_child_weight=1, max_depth=3, colsample_bytree=0.8, subsample=0.8)\n",
    "xgb_model.fit(X_train, y_train)\n",
    "\n",
    "# Predictions\n",
    "y_pred = xgb_model.predict(X_test)"
   ]
  },
  {
   "cell_type": "code",
   "execution_count": 916,
   "metadata": {},
   "outputs": [
    {
     "name": "stderr",
     "output_type": "stream",
     "text": [
      "/opt/anaconda3/lib/python3.11/site-packages/shap/plots/_beeswarm.py:952: UserWarning: FigureCanvasAgg is non-interactive, and thus cannot be shown\n",
      "  pl.show()\n"
     ]
    }
   ],
   "source": [
    "# Create SHAP explainer\n",
    "explainer = shap.Explainer(xgb_model, X_train)\n",
    "shap_values = explainer(X_test)\n",
    "\n",
    "plt.figure()\n",
    "\n",
    "# Summary plot (global feature importance)\n",
    "shap.summary_plot(shap_values, X_test)\n",
    "\n",
    "# Save the plot\n",
    "plt.savefig(\"growth_duration_shap.png\", dpi=300, bbox_inches='tight')\n",
    "\n",
    "# Close the plot to free memory\n",
    "plt.close()"
   ]
  },
  {
   "cell_type": "markdown",
   "metadata": {},
   "source": [
    "### (d) "
   ]
  },
  {
   "cell_type": "code",
   "execution_count": 917,
   "metadata": {},
   "outputs": [
    {
     "name": "stdout",
     "output_type": "stream",
     "text": [
      "Child F, Parent M: R² = 0.914\n",
      "Child F, Parent F: R² = 0.724\n",
      "Child M, Parent M: R² = 0.802\n",
      "Child M, Parent F: R² = 0.816\n"
     ]
    },
    {
     "name": "stderr",
     "output_type": "stream",
     "text": [
      "/var/folders/z0/f_81q7kj32b00k_1vkb513480000gn/T/ipykernel_69273/408904298.py:47: UserWarning: FigureCanvasAgg is non-interactive, and thus cannot be shown\n",
      "  plt.show()\n"
     ]
    }
   ],
   "source": [
    "y = features_df['growth_magnitude_9_15'] \n",
    "\n",
    "# Store results\n",
    "results = {}\n",
    "\n",
    "# Iterate through each parent/child sex combination\n",
    "for child_sex in features_df['child_sex'].unique():\n",
    "    for parent_sex in features_df['parent_sex'].unique():\n",
    "        # Filter dataset for specific sex combination\n",
    "        subset = features_df[(features_df['child_sex'] == child_sex) & (features_df['parent_sex'] == parent_sex)]\n",
    "        \n",
    "        if len(subset) > 10:  # Ensure sufficient data points\n",
    "            X = subset.filter(like='parent_velocity')  # Use only pre-15 parent velocities\n",
    "            y_subset = subset['growth_magnitude_9_15'].dropna()\n",
    "            X = X.loc[y_subset.index]  # Align missing values\n",
    "\n",
    "            # Train XGBoost model\n",
    "            xgb_model = XGBRegressor(objective=\"reg:squarederror\", n_estimators=300, learning_rate=0.01, min_child_weight=1, max_depth=3, colsample_bytree=0.8, subsample=0.8)\n",
    "            xgb_model.fit(X, y_subset)\n",
    "            y_pred = xgb_model.predict(X)\n",
    "\n",
    "            # Compute R² score\n",
    "            r2 = r2_score(y_subset, y_pred)\n",
    "            results[f\"Child {child_sex}, Parent {parent_sex}\"] = r2\n",
    "\n",
    "# Display results\n",
    "for group, score in results.items():\n",
    "    print(f\"{group}: R² = {score:.3f}\")\n",
    "\n",
    "\n",
    "# Convert results to DataFrame\n",
    "results_df = pd.DataFrame(list(results.items()), columns=[\"Parent-Child Combination\", \"R² Score\"])\n",
    "\n",
    "# Create figure and axis for table\n",
    "fig, ax = plt.subplots(figsize=(6, 3))\n",
    "ax.axis('tight')\n",
    "ax.axis('off')\n",
    "\n",
    "# Create table\n",
    "table = ax.table(cellText=results_df.values, \n",
    "                 colLabels=results_df.columns, \n",
    "                 cellLoc='center', \n",
    "                 loc='center')\n",
    "\n",
    "# Save table as image\n",
    "plt.savefig(\"mag_results.png\", dpi=300, bbox_inches='tight')\n",
    "plt.show()"
   ]
  },
  {
   "cell_type": "code",
   "execution_count": 918,
   "metadata": {},
   "outputs": [
    {
     "name": "stdout",
     "output_type": "stream",
     "text": [
      "Child F, Parent M: R² = 0.593\n",
      "Child F, Parent F: R² = 0.830\n",
      "Child M, Parent M: R² = 0.575\n",
      "Child M, Parent F: R² = 0.911\n"
     ]
    },
    {
     "name": "stderr",
     "output_type": "stream",
     "text": [
      "/var/folders/z0/f_81q7kj32b00k_1vkb513480000gn/T/ipykernel_69273/4200241797.py:46: UserWarning: FigureCanvasAgg is non-interactive, and thus cannot be shown\n",
      "  plt.show()\n"
     ]
    }
   ],
   "source": [
    "y = features_df['puberty_duration'] \n",
    "\n",
    "# Store results\n",
    "results = {}\n",
    "\n",
    "# Iterate through each parent/child sex combination\n",
    "for child_sex in features_df['child_sex'].unique():\n",
    "    for parent_sex in features_df['parent_sex'].unique():\n",
    "        # Filter dataset for specific sex combination\n",
    "        subset = features_df[(features_df['child_sex'] == child_sex) & (features_df['parent_sex'] == parent_sex)]\n",
    "        \n",
    "        if len(subset) > 10:  # Ensure sufficient data points\n",
    "            X = subset.filter(like='parent_velocity')  # Use only pre-15 parent velocities\n",
    "            y_subset = subset['puberty_duration'].dropna()\n",
    "            X = X.loc[y_subset.index]  # Align missing values\n",
    "\n",
    "            # Train XGBoost model\n",
    "            xgb_model = XGBRegressor(objective=\"reg:squarederror\", n_estimators=300, learning_rate=0.01, min_child_weight=1, max_depth=3, colsample_bytree=0.8, subsample=0.8)\n",
    "            xgb_model.fit(X, y_subset)\n",
    "            y_pred = xgb_model.predict(X)\n",
    "\n",
    "            # Compute R² score\n",
    "            r2 = r2_score(y_subset, y_pred)\n",
    "            results[f\"Child {child_sex}, Parent {parent_sex}\"] = r2\n",
    "\n",
    "# Display results\n",
    "for group, score in results.items():\n",
    "    print(f\"{group}: R² = {score:.3f}\")\n",
    "\n",
    "# Convert results to DataFrame\n",
    "results_df = pd.DataFrame(list(results.items()), columns=[\"Parent-Child Combination\", \"R² Score\"])\n",
    "\n",
    "# Create figure and axis for table\n",
    "fig, ax = plt.subplots(figsize=(6, 3))\n",
    "ax.axis('tight')\n",
    "ax.axis('off')\n",
    "\n",
    "# Create table\n",
    "table = ax.table(cellText=results_df.values, \n",
    "                 colLabels=results_df.columns, \n",
    "                 cellLoc='center', \n",
    "                 loc='center')\n",
    "\n",
    "# Save table as image\n",
    "plt.savefig(\"dur_results.png\", dpi=300, bbox_inches='tight')\n",
    "plt.show()"
   ]
  },
  {
   "cell_type": "code",
   "execution_count": null,
   "metadata": {},
   "outputs": [],
   "source": []
  }
 ],
 "metadata": {
  "kernelspec": {
   "display_name": "base",
   "language": "python",
   "name": "python3"
  },
  "language_info": {
   "codemirror_mode": {
    "name": "ipython",
    "version": 3
   },
   "file_extension": ".py",
   "mimetype": "text/x-python",
   "name": "python",
   "nbconvert_exporter": "python",
   "pygments_lexer": "ipython3",
   "version": "3.11.0"
  }
 },
 "nbformat": 4,
 "nbformat_minor": 2
}
